{
 "cells": [
  {
   "cell_type": "markdown",
   "metadata": {},
   "source": [
    "# notebook for running summa\n",
    "based on Create_Run_Files.py"
   ]
  },
  {
   "cell_type": "code",
   "execution_count": 1,
   "metadata": {
    "collapsed": false
   },
   "outputs": [],
   "source": [
    "# netcdf/numpy/xray/stats\n",
    "import numpy as np\n",
    "from datetime import datetime, timedelta\n",
    "import pandas as pd\n",
    "import xarray as xr\n",
    "from scipy.stats.stats import pearsonr\n",
    "\n",
    "# OS interaction\n",
    "import sys, pickle, os\n",
    "\n",
    "# import plotting\n",
    "import seaborn as sns\n",
    "import matplotlib\n",
    "from matplotlib.pyplot import subplots\n",
    "import matplotlib.pyplot as plt\n",
    "from matplotlib import cm\n",
    "from mpl_toolkits.basemap import Basemap\n",
    "\n",
    "import summapy\n",
    "\n",
    "# Customize\n",
    "sns.set_style(\"whitegrid\")\n",
    "sns.set_context('paper')\n",
    "%matplotlib inline"
   ]
  },
  {
   "cell_type": "code",
   "execution_count": 2,
   "metadata": {
    "collapsed": true
   },
   "outputs": [],
   "source": [
    "# --------------------------------------------------------------------------------------------------------------------\n",
    "# Directory Lists\n",
    "# Unix\n",
    "if 'linux' in sys.platform:\n",
    "    dir_pre = '/home/lapok/gdrive/'\n",
    "# Mac\n",
    "elif 'darwin' in sys.platform:\n",
    "    dir_pre = '/Users/karllapo/gdrive/'\n",
    "\n",
    "# Project specific directories\n",
    "dirProj = dir_pre + 'SnowHydrology/proj/ModTsfc/'\n",
    "dirPrint = dirProj + 'Graphics'\n",
    "dirData = dirProj + 'data'\n",
    "\n",
    "# Summa specific directories/names\n",
    "dirSumma = dirProj + 'summa/'\n",
    "projName = 'summaTestCases'"
   ]
  },
  {
   "cell_type": "markdown",
   "metadata": {},
   "source": [
    "# Create_Run_Files.py\n",
    "## Description\n",
    "- Sets up multiple paramter/option runs for SUMMA\n",
    "\n",
    "## Instructions\n",
    "\n",
    "## Input"
   ]
  },
  {
   "cell_type": "code",
   "execution_count": 3,
   "metadata": {
    "collapsed": false
   },
   "outputs": [],
   "source": [
    "# Set up other paths\n",
    "# Format for calling the docker version of summa (from Bart's shell script)\n",
    "# run_exe      = \"docker run -v \" + ${BASEDIR} + \":/\" + ${summaTestCases} + \" bartnijssen/summa:docker\"\n",
    "run_exe      = \"docker run -v \" + dirSumma + \":/\" + projName + \" bartnijssen/summa:docker\"\n",
    "\n",
    "dirSettings = dirSumma + \"settings/\"\n",
    "dirInput = dirSumma + \"input/\"\n",
    "dirOutput = dirSumma + \"output/\""
   ]
  },
  {
   "cell_type": "code",
   "execution_count": 4,
   "metadata": {
    "collapsed": false
   },
   "outputs": [],
   "source": [
    "# Arguments that will eventually be passed to this function\n",
    "os.chdir(dirData)\n",
    "dat = xr.open_dataset('CDP.ModTsfc.ModelForcing_wy2006.nc')\n",
    "attr = xr.open_dataset('CDP.ModTsfc.Attributes.nc')"
   ]
  },
  {
   "cell_type": "code",
   "execution_count": 5,
   "metadata": {
    "collapsed": false
   },
   "outputs": [
    {
     "name": "stdout",
     "output_type": "stream",
     "text": [
      "Finished creating new Decision file\n"
     ]
    }
   ],
   "source": [
    "siteName = 'CDP'\n",
    "expName = 'summapyDevelop'\n",
    "expID = 'test'\n",
    "\n",
    "myDecisions = {'astability': 'louisinv',\n",
    "               'subRouting': 'qInstant'}\n",
    "dirModel = '/Users/karllapo/gdrive/SnowHydrology/proj/ModTsfc/summa/ModTsfc_summa/'\n",
    "\n",
    "summapy.summaFileManager.writeDefault(dirModel, siteName, expName)\n",
    "summapy.summaFileManager.decision(myDecisions, dirModel, siteName, expName,\n",
    "                                  pd.to_datetime(dat.time[0].values),\n",
    "                                  pd.to_datetime(dat.time[-1].values), expID=expID)\n",
    "\n"
   ]
  },
  {
   "cell_type": "code",
   "execution_count": 6,
   "metadata": {
    "collapsed": false
   },
   "outputs": [
    {
     "name": "stdout",
     "output_type": "stream",
     "text": [
      "Returning lower and upper parameter values\n",
      "[0.05, 0.05]\n",
      "0.1\n",
      "Finished creating new summa_zParamTrial file\n"
     ]
    }
   ],
   "source": [
    "zTest = summapy.summaFileManager.getParamVals('zmaxLayer1_lower', 2, dirModel, siteName, expName)\n",
    "summapy.summaFileManager.paramTrial(['zmaxLayer1_lower'], np.array(0.1), dirModel, siteName, expName, expID)"
   ]
  },
  {
   "cell_type": "code",
   "execution_count": 7,
   "metadata": {
    "collapsed": false
   },
   "outputs": [],
   "source": [
    "summapy.summaFileManager.localAttributesFile(attr, dirModel, siteName, expName)"
   ]
  },
  {
   "cell_type": "code",
   "execution_count": 8,
   "metadata": {
    "collapsed": false
   },
   "outputs": [],
   "source": [
    "summapy.summaFileManager.forcingFile(dirModel, siteName, expName,\n",
    "                                     'CDP.ModTsfc.ModelForcing_wy2006.nc',\n",
    "                                     np.array(1001), xrForce=dat, expID='test')"
   ]
  },
  {
   "cell_type": "code",
   "execution_count": 9,
   "metadata": {
    "collapsed": false
   },
   "outputs": [
    {
     "name": "stdout",
     "output_type": "stream",
     "text": [
      "Finished creating new file Manager\n"
     ]
    }
   ],
   "source": [
    "summapy.summaFileManager.fileManager(dirModel, '/ModTsfc_summa/', siteName, expName, expID=expID)"
   ]
  }
 ],
 "metadata": {
  "anaconda-cloud": {},
  "kernelspec": {
   "display_name": "Python [Root]",
   "language": "python",
   "name": "Python [Root]"
  },
  "language_info": {
   "codemirror_mode": {
    "name": "ipython",
    "version": 3
   },
   "file_extension": ".py",
   "mimetype": "text/x-python",
   "name": "python",
   "nbconvert_exporter": "python",
   "pygments_lexer": "ipython3",
   "version": "3.5.2"
  }
 },
 "nbformat": 4,
 "nbformat_minor": 0
}
