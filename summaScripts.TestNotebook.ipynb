{
 "cells": [
  {
   "cell_type": "markdown",
   "metadata": {},
   "source": [
    "# notebook for running summa\n",
    "based on Create_Run_Files.py"
   ]
  },
  {
   "cell_type": "code",
   "execution_count": 1,
   "metadata": {
    "collapsed": false
   },
   "outputs": [],
   "source": [
    "# netcdf/numpy/xray/stats\n",
    "import numpy as np\n",
    "from datetime import datetime, timedelta\n",
    "import pandas as pd\n",
    "import xarray as xr\n",
    "from scipy.stats.stats import pearsonr\n",
    "\n",
    "# OS interaction\n",
    "import sys, pickle, os\n",
    "\n",
    "# import plotting\n",
    "import seaborn as sns\n",
    "import matplotlib\n",
    "from matplotlib.pyplot import subplots\n",
    "import matplotlib.pyplot as plt\n",
    "from matplotlib import cm\n",
    "from mpl_toolkits.basemap import Basemap\n",
    "\n",
    "import summapy\n",
    "\n",
    "# Customize\n",
    "sns.set_style(\"whitegrid\")\n",
    "sns.set_context('paper')\n",
    "%matplotlib inline"
   ]
  },
  {
   "cell_type": "code",
   "execution_count": 2,
   "metadata": {
    "collapsed": true
   },
   "outputs": [],
   "source": [
    "# --------------------------------------------------------------------------------------------------------------------\n",
    "# Directory Lists\n",
    "# Unix\n",
    "if 'linux' in sys.platform:\n",
    "    dir_pre = '/home/lapok/gdrive/'\n",
    "# Mac\n",
    "elif 'darwin' in sys.platform:\n",
    "    dir_pre = '/Users/karllapo/gdrive/'\n",
    "\n",
    "# Project specific directories\n",
    "dirProj = dir_pre + 'SnowHydrology/proj/ModTsfc/'\n",
    "dirPrint = dirProj + 'Graphics'\n",
    "dirData = dirProj + 'data'\n",
    "\n",
    "# Summa specific directories/names\n",
    "dirSumma = dirProj + 'summa/'\n",
    "projName = 'summaTestCases'"
   ]
  },
  {
   "cell_type": "markdown",
   "metadata": {},
   "source": [
    "# Create_Run_Files.py\n",
    "## Description\n",
    "- Sets up multiple paramter/option runs for the FUSE_SNOW model. Each Run creates a new folder under /settings/SITE/R_X\n",
    "- If only one Run number is specified, then no values are updated (i.e. param_2_vary is ignored)\n",
    "\n",
    "## Instructions\n",
    "1) Modify Input Values  below\n",
    "\n",
    "2) Run ./Create_Run_Files.py\n",
    "\n",
    "## Input\n",
    "- Run_IDs: Number values for new created run files (i.e R_46)\n",
    "- Site_ID_all: Names of all sites to be included, same as site folder names, (Requires Input, Settings, and output folder set up)\n",
    "- new_param_all: Paramter names to vary, (From /settings/summa_zParamInfo.txt)\n",
    "- N_param_itr: Number of values to vary each paramter, (divided evenly between min and max, defined in summa_zParamInfo.txt)"
   ]
  },
  {
   "cell_type": "markdown",
   "metadata": {},
   "source": [
    "# Define Variables/Parameteres Used\n",
    "- cPr: Index of current Multiparameter run set\n",
    "- c_new_param: Name of current parameter\n",
    "- NPruns: Total number of Multiparamter runs\n",
    "- cSite: Index of current Site\n",
    "- c_Site_ID: Name of current Site\n",
    "- NSites: Total number of Sites\n"
   ]
  },
  {
   "cell_type": "code",
   "execution_count": 3,
   "metadata": {
    "collapsed": false
   },
   "outputs": [],
   "source": [
    "# Set up other paths\n",
    "# Format for calling the docker version of summa (from Bart's shell script)\n",
    "# run_exe      = \"docker run -v \" + ${BASEDIR} + \":/\" + ${summaTestCases} + \" bartnijssen/summa:docker\"\n",
    "run_exe      = \"docker run -v \" + dirSumma + \":/\" + projName + \" bartnijssen/summa:docker\"\n",
    "\n",
    "dirSettings = dirSumma + \"settings/\"\n",
    "dirInput = dirSumma + \"input/\"\n",
    "dirOutput = dirSumma + \"output/\""
   ]
  },
  {
   "cell_type": "code",
   "execution_count": 4,
   "metadata": {
    "collapsed": false
   },
   "outputs": [],
   "source": [
    "# Arguments that will eventually be passed to this function\n",
    "os.chdir(dirData)\n",
    "dat = xr.open_dataset('CDP.ModTsfc.ModelForcing_wy2006.nc')"
   ]
  },
  {
   "cell_type": "code",
   "execution_count": 5,
   "metadata": {
    "collapsed": false
   },
   "outputs": [
    {
     "name": "stdout",
     "output_type": "stream",
     "text": [
      "Finished creating new Decision file\n",
      "Finished creating new file Manager\n"
     ]
    }
   ],
   "source": [
    "siteName = 'CDP'\n",
    "expName = 'summapyDevelop'\n",
    "expID = 'test'\n",
    "\n",
    "myDecisions = {'astability': 'louisinv'}\n",
    "dirModel = '/Users/karllapo/gdrive/SnowHydrology/proj/ModTsfc/summa/ModTsfc_summa/'\n",
    "summapy.summaFileManager.decision(myDecisions, dirModel, siteName, expName,\n",
    "                                  datetime(2005, 10, 1), datetime(2006, 9, 30), expID=expID)\n",
    "\n",
    "summapy.summaFileManager.fileManager(dirModel, siteName, expName, expID=expID)\n",
    "\n",
    "summapy.summaFileManager.paramLocalParamInfo(dirModel, siteName, expName)"
   ]
  },
  {
   "cell_type": "code",
   "execution_count": 8,
   "metadata": {
    "collapsed": false
   },
   "outputs": [
    {
     "name": "stdout",
     "output_type": "stream",
     "text": [
      "Returning lower and upper parameter values\n",
      "[0.05, 0.05]\n",
      "0.1\n",
      "Finished creating new summa_zParamTrial file\n"
     ]
    }
   ],
   "source": [
    "zTest = summapy.summaFileManager.getParamVals('zmaxLayer1_lower', 2, dirModel, siteName, expName)\n",
    "summapy.summaFileManager.paramTrial(['zmaxLayer1_lower'], np.array(0.1), dirModel, siteName, expName, expID)"
   ]
  },
  {
   "cell_type": "raw",
   "metadata": {},
   "source": [
    "####\n",
    "# excerpts from the shell script for running summa (from Bart)\n",
    "\n",
    "# ./runTestCases.sh &> runfile &\n",
    "# Output will go into `summaTestCases/output`\n",
    "\n",
    "# string for the summa exe\n",
    "# The commands assume that you are in the directory {localInstallation}//summaTestCases/settings/\n",
    "# and that the control files are in {localInstallation}//summaTestCases/settings/\n",
    "BASEDIR=pwd\n",
    "SUMMA_EXE=\"docker run -v ${BASEDIR}:/summaTestCases bartnijssen/summa:docker\"\n",
    "\n",
    "# *************************************************************************************************\n",
    "# * PART 1: TEST CASES BASED ON SYNTHETIC OR LAB DATA\n",
    "\n",
    "\n",
    "# Synthetic test case 1: Simulations from Celia (WRR 1990)\n",
    "${SUMMA_EXE} -p never -s _testSumma -m /summaTestCases/settings/syntheticTestCases/celia1990/summa_fileManager_celia1990.txt\n",
    "\n",
    "# Synthetic test case 2: Simulations of drainage through snow pack from Clark et al. (WRR 2016) based on Colbeck (1976)\n",
    "${SUMMA_EXE} -p never -s _testSumma -m /summaTestCases/settings/syntheticTestCases/colbeck1976/summa_fileManager_colbeck1976-exp1.txt\n",
    "${SUMMA_EXE} -p never -s _testSumma -m /summaTestCases/settings/syntheticTestCases/colbeck1976/summa_fileManager_colbeck1976-exp2.txt\n",
    "${SUMMA_EXE} -p never -s _testSumma -m /summaTestCases/settings/syntheticTestCases/colbeck1976/summa_fileManager_colbeck1976-exp3.txt"
   ]
  },
  {
   "cell_type": "code",
   "execution_count": 7,
   "metadata": {
    "collapsed": false
   },
   "outputs": [
    {
     "data": {
      "text/plain": [
       "<function numpy.core.shape_base.atleast_1d>"
      ]
     },
     "execution_count": 7,
     "metadata": {},
     "output_type": "execute_result"
    }
   ],
   "source": [
    "np.atleast_1d"
   ]
  }
 ],
 "metadata": {
  "anaconda-cloud": {},
  "kernelspec": {
   "display_name": "Python [Root]",
   "language": "python",
   "name": "Python [Root]"
  },
  "language_info": {
   "codemirror_mode": {
    "name": "ipython",
    "version": 3
   },
   "file_extension": ".py",
   "mimetype": "text/x-python",
   "name": "python",
   "nbconvert_exporter": "python",
   "pygments_lexer": "ipython3",
   "version": "3.5.2"
  }
 },
 "nbformat": 4,
 "nbformat_minor": 0
}
