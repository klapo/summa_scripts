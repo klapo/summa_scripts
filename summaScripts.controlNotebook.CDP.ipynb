{
 "cells": [
  {
   "cell_type": "markdown",
   "metadata": {},
   "source": [
    "# Summa control notebook"
   ]
  },
  {
   "cell_type": "code",
   "execution_count": 2,
   "metadata": {
    "collapsed": false
   },
   "outputs": [],
   "source": [
    "# netcdf/numpy/xray/stats\n",
    "import numpy as np\n",
    "from datetime import datetime, timedelta\n",
    "import pandas as pd\n",
    "import xarray as xr\n",
    "from scipy.stats.stats import pearsonr\n",
    "\n",
    "# OS interaction\n",
    "import sys, pickle, os\n",
    "\n",
    "# import plotting\n",
    "import seaborn as sns\n",
    "import matplotlib\n",
    "from matplotlib.pyplot import subplots\n",
    "import matplotlib.pyplot as plt\n",
    "from matplotlib import cm\n",
    "from mpl_toolkits.basemap import Basemap\n",
    "\n",
    "import summapy\n",
    "\n",
    "# Customize\n",
    "sns.set_style(\"whitegrid\")\n",
    "sns.set_context('paper')\n",
    "%matplotlib inline"
   ]
  },
  {
   "cell_type": "code",
   "execution_count": 3,
   "metadata": {
    "collapsed": true
   },
   "outputs": [],
   "source": [
    "# --------------------------------------------------------------------------------------------------------------------\n",
    "# Directory Lists\n",
    "# Unix\n",
    "if 'linux' in sys.platform:\n",
    "    dir_pre = '/home/lapok/gdrive/'\n",
    "# Mac\n",
    "elif 'darwin' in sys.platform:\n",
    "    dir_pre = '/Users/karllapo/gdrive/'\n",
    "\n",
    "# Project specific directories\n",
    "dirProj = dir_pre + 'SnowHydrology/proj/ModTsfc/'\n",
    "dirPrint = dirProj + 'Graphics'\n",
    "dirData = dirProj + 'data'\n",
    "\n",
    "# Summa specific directories/names\n",
    "dirSumma = dirProj + 'summa/'\n",
    "projName = 'summaTestCases'"
   ]
  },
  {
   "cell_type": "code",
   "execution_count": 4,
   "metadata": {
    "collapsed": false
   },
   "outputs": [],
   "source": [
    "# Arguments that will eventually be passed to a master function\n",
    "os.chdir(dirData)\n",
    "dat = xr.open_dataset('CDP.ModTsfc.ModelForcing_wy2006.nc')\n",
    "attr = xr.open_dataset('CDP.ModTsfc.Attributes.nc')\n",
    "siteName = 'CDP'\n",
    "myDecisions = {'astability': 'louisinv',\n",
    "               'subRouting': 'qInstant'}\n",
    "dirModel = '/Users/karllapo/gdrive/SnowHydrology/proj/ModTsfc/summa/ModTsfc_summa/'"
   ]
  },
  {
   "cell_type": "markdown",
   "metadata": {},
   "source": [
    "# Layer Experiments"
   ]
  },
  {
   "cell_type": "code",
   "execution_count": 5,
   "metadata": {
    "collapsed": false
   },
   "outputs": [],
   "source": [
    "# Set up modeling decisions. Non-specified decision will follow the default values set by summa and summapy\n",
    "expName = 'layers'\n",
    "arrayExpID = ['jrdn1991', 'CLM_2010', 'layerThin', 'layerThick']\n",
    "myDecisions = {'astability': 'louisinv',\n",
    "               'subRouting': 'qInstant'}\n",
    "\n",
    "layerThin = {'zminLayer3': 100.0000,\n",
    "             'zminLayer4': 100.0000,\n",
    "             'zminLayer5': 100.0000,\n",
    "             'zmaxLayer2_lower': 1000.0000,\n",
    "             'zmaxLayer3_lower': 1000.0000,\n",
    "             'zmaxLayer4_lower': 1000.0000,\n",
    "             'zmaxLayer2_upper': 1000.0000,\n",
    "             'zmaxLayer3_upper': 1000.0000,\n",
    "             'zmaxLayer4_upper': 1000.0000}\n",
    "\n",
    "layerThick = {'zminLayer1': 0.0500,\n",
    "              'zminLayer2': 0.0200,\n",
    "              'zminLayer3': 100.0000,\n",
    "              'zminLayer4': 100.0000,\n",
    "              'zminLayer5': 100.0000,\n",
    "              'zmaxLayer1_lower': 0.2000,\n",
    "              'zmaxLayer2_lower': 1000.0000,\n",
    "              'zmaxLayer3_lower': 1000.0000,\n",
    "              'zmaxLayer4_lower': 1000.0000,\n",
    "              'zmaxLayer1_upper': 0.1500,\n",
    "              'zmaxLayer2_upper': 1000.0000,\n",
    "              'zmaxLayer3_upper': 1000.0000,\n",
    "              'zmaxLayer4_upper': 1000.0000}\n"
   ]
  },
  {
   "cell_type": "code",
   "execution_count": 6,
   "metadata": {
    "collapsed": false
   },
   "outputs": [
    {
     "name": "stdout",
     "output_type": "stream",
     "text": [
      "jrdn1991\n",
      "\n",
      "Finished creating new summa_zParamTrial file\n",
      "Finished creating new Decision file\n",
      "Finished creating new file Manager\n",
      "CLM_2010\n",
      "\n",
      "Finished creating new summa_zParamTrial file\n",
      "Finished creating new Decision file\n",
      "Finished creating new file Manager\n",
      "layerThin\n",
      "100.0    1000.0    100.0    1000.0    1000.0    100.0    1000.0    1000.0    1000.0\n",
      "Finished creating new summa_zParamTrial file\n",
      "Finished creating new Decision file\n",
      "Finished creating new file Manager\n",
      "layerThick\n",
      "100.0    1000.0    0.05    1000.0    100.0    0.2    1000.0    100.0    1000.0    1000.0    0.02    0.15    1000.0\n",
      "Finished creating new summa_zParamTrial file\n",
      "Finished creating new Decision file\n",
      "Finished creating new file Manager\n"
     ]
    }
   ],
   "source": [
    "# Consistent files across all experiments\n",
    "summapy.summaFileManager.writeDefault(dirModel, siteName, expName)\n",
    "summapy.summaFileManager.localAttributesFile(attr, dirModel, siteName, expName)\n",
    "\n",
    "# Experiment specific files\n",
    "for expID in arrayExpID:\n",
    "    print(expID)\n",
    "    # Parameterize for 2-layer thin, 2-layer thick, jordan, and clm\n",
    "    if expID == 'layerThin':\n",
    "        myDecisions['snowLayers'] = 'CLM_2010'\n",
    "        strParam = list(layerThin.keys())\n",
    "        valParam = list(layerThin.values())\n",
    "        summapy.summaFileManager.paramTrial(strParam, valParam, dirModel, siteName, expName, expID)\n",
    "    elif expID == 'layerThick':\n",
    "        myDecisions['snowLayers'] = 'CLM_2010'\n",
    "        strParam = list(layerThick.keys())\n",
    "        valParam = list(layerThick.values())\n",
    "        summapy.summaFileManager.paramTrial(strParam, valParam, dirModel, siteName, expName, expID)\n",
    "    else:\n",
    "        myDecisions['snowLayers'] = expID\n",
    "        summapy.summaFileManager.paramTrial('', [], dirModel, siteName, expName, expID)\n",
    "\n",
    "    #\n",
    "    summapy.summaFileManager.forcingFile(dirModel, siteName, expName,\n",
    "                                         'CDP.ModTsfc.ModelForcing_wy2006.nc',\n",
    "                                         np.array(1001), xrForce=dat, expID=expID)    \n",
    "    summapy.summaFileManager.decision(myDecisions, dirModel, siteName, expName,\n",
    "                                      pd.to_datetime(dat.time[0].values),\n",
    "                                      pd.to_datetime(dat.time[-1].values), expID=expID)\n",
    "    summapy.summaFileManager.fileManager(dirModel, '/ModTsfc_summa/', siteName, expName, expID=expID)"
   ]
  },
  {
   "cell_type": "markdown",
   "metadata": {},
   "source": [
    "# Thermal Conductivity Tests"
   ]
  },
  {
   "cell_type": "code",
   "execution_count": 7,
   "metadata": {
    "collapsed": true
   },
   "outputs": [],
   "source": [
    "# Set up modeling decisions. Non-specified decision will follow the default values set by summa and summapy\n",
    "expName = 'thermalCond'\n",
    "arrayExpID = ['tyen1965', 'melr1977', 'jrdn1991', 'smnv2000']\n",
    "\n",
    "thermalCondVar = [0.3500, 0.1000, 1.0000]\n",
    "thermalCondName = ['fixedThermalCond_snow']\n",
    "expIDAppend = ['Mid', 'Low', 'High']\n",
    "\n",
    "myDecisions = {'astability': 'louisinv',\n",
    "               'subRouting': 'qInstant'}"
   ]
  },
  {
   "cell_type": "code",
   "execution_count": 8,
   "metadata": {
    "collapsed": false
   },
   "outputs": [
    {
     "name": "stdout",
     "output_type": "stream",
     "text": [
      "tyen1965Mid\n",
      "0.35\n",
      "Finished creating new summa_zParamTrial file\n",
      "Finished creating new Decision file\n",
      "Finished creating new file Manager\n",
      "tyen1965Low\n",
      "0.1\n",
      "Finished creating new summa_zParamTrial file\n",
      "Finished creating new Decision file\n",
      "Finished creating new file Manager\n",
      "tyen1965High\n",
      "1.0\n",
      "Finished creating new summa_zParamTrial file\n",
      "Finished creating new Decision file\n",
      "Finished creating new file Manager\n",
      "melr1977Mid\n",
      "0.35\n",
      "Finished creating new summa_zParamTrial file\n",
      "Finished creating new Decision file\n",
      "Finished creating new file Manager\n",
      "melr1977Low\n",
      "0.1\n",
      "Finished creating new summa_zParamTrial file\n",
      "Finished creating new Decision file\n",
      "Finished creating new file Manager\n",
      "melr1977High\n",
      "1.0\n",
      "Finished creating new summa_zParamTrial file\n",
      "Finished creating new Decision file\n",
      "Finished creating new file Manager\n",
      "jrdn1991Mid\n",
      "0.35\n",
      "Finished creating new summa_zParamTrial file\n",
      "Finished creating new Decision file\n",
      "Finished creating new file Manager\n",
      "jrdn1991Low\n",
      "0.1\n",
      "Finished creating new summa_zParamTrial file\n",
      "Finished creating new Decision file\n",
      "Finished creating new file Manager\n",
      "jrdn1991High\n",
      "1.0\n",
      "Finished creating new summa_zParamTrial file\n",
      "Finished creating new Decision file\n",
      "Finished creating new file Manager\n",
      "smnv2000Mid\n",
      "0.35\n",
      "Finished creating new summa_zParamTrial file\n",
      "Finished creating new Decision file\n",
      "Finished creating new file Manager\n",
      "smnv2000Low\n",
      "0.1\n",
      "Finished creating new summa_zParamTrial file\n",
      "Finished creating new Decision file\n",
      "Finished creating new file Manager\n",
      "smnv2000High\n",
      "1.0\n",
      "Finished creating new summa_zParamTrial file\n",
      "Finished creating new Decision file\n",
      "Finished creating new file Manager\n"
     ]
    }
   ],
   "source": [
    "# Consistent files across all experiments\n",
    "summapy.summaFileManager.writeDefault(dirModel, siteName, expName)\n",
    "summapy.summaFileManager.localAttributesFile(attr, dirModel, siteName, expName)\n",
    "\n",
    "# Experiment specific files\n",
    "for expID in arrayExpID:\n",
    "    for val, append in zip(thermalCondVar, expIDAppend):\n",
    "        myDecisions['thCondSnow'] = expID\n",
    "        print(expID + append)\n",
    "        summapy.summaFileManager.paramTrial(thermalCondName, val, dirModel, siteName, expName, expID + append)\n",
    "        summapy.summaFileManager.forcingFile(dirModel, siteName, expName,\n",
    "                                             'CDP.ModTsfc.ModelForcing_wy2006.nc',\n",
    "                                             np.array(1001), xrForce=dat, expID=expID + append)    \n",
    "        summapy.summaFileManager.decision(myDecisions, dirModel, siteName, expName,\n",
    "                                          pd.to_datetime(dat.time[0].values),\n",
    "                                          pd.to_datetime(dat.time[-1].values), expID=expID + append)\n",
    "        summapy.summaFileManager.fileManager(dirModel, '/ModTsfc_summa/', siteName, expName, expID=expID + append)"
   ]
  },
  {
   "cell_type": "markdown",
   "metadata": {},
   "source": [
    "# Longwave bias"
   ]
  },
  {
   "cell_type": "code",
   "execution_count": 9,
   "metadata": {
    "collapsed": true
   },
   "outputs": [],
   "source": [
    "# Set up modeling decisions. Non-specified decision will follow the default values set by summa and summapy\n",
    "expName = 'longwaveBias'\n",
    "arrayExpID = ['lowLW', 'obsLW', 'highLW']\n",
    "biasMod = {'lowLW': -20,\n",
    "           'obsLW': 0,\n",
    "           'highLW': 20}\n",
    "\n",
    "myDecisions = {'astability': 'louisinv',\n",
    "               'subRouting': 'qInstant'}"
   ]
  },
  {
   "cell_type": "code",
   "execution_count": 10,
   "metadata": {
    "collapsed": false
   },
   "outputs": [
    {
     "name": "stdout",
     "output_type": "stream",
     "text": [
      "lowLW\n",
      "\n",
      "Finished creating new summa_zParamTrial file\n",
      "Finished creating new Decision file\n",
      "Finished creating new file Manager\n",
      "obsLW\n",
      "\n",
      "Finished creating new summa_zParamTrial file\n",
      "Finished creating new Decision file\n",
      "Finished creating new file Manager\n",
      "highLW\n",
      "\n",
      "Finished creating new summa_zParamTrial file\n",
      "Finished creating new Decision file\n",
      "Finished creating new file Manager\n"
     ]
    }
   ],
   "source": [
    "# Consistent files across all experiments\n",
    "summapy.summaFileManager.writeDefault(dirModel, siteName, expName)\n",
    "summapy.summaFileManager.localAttributesFile(attr, dirModel, siteName, expName)\n",
    "\n",
    "# Experiment specific files\n",
    "for expID in arrayExpID:\n",
    "    print(expID)\n",
    "    CDPtemp = xr.Dataset(dat)\n",
    "    CDPtemp['LWRadAtm'] = CDPtemp['LWRadAtm'] + biasMod[expID]\n",
    "    \n",
    "    summapy.summaFileManager.paramTrial('', [], dirModel, siteName, expName, expID)\n",
    "    summapy.summaFileManager.forcingFile(dirModel, siteName, expName,\n",
    "                                         'CDP.ModTsfc.ModelForcing_wy2006.' + expID + '.nc',\n",
    "                                         np.array(1001), xrForce=CDPtemp, expID=expID)\n",
    "    summapy.summaFileManager.decision(myDecisions, dirModel, siteName, expName,\n",
    "                                      pd.to_datetime(dat.time[0].values),\n",
    "                                      pd.to_datetime(dat.time[-1].values), expID=expID)\n",
    "    summapy.summaFileManager.fileManager(dirModel, '/ModTsfc_summa/', siteName, expName, expID=expID)"
   ]
  },
  {
   "cell_type": "markdown",
   "metadata": {},
   "source": [
    "## Turbulence"
   ]
  },
  {
   "cell_type": "code",
   "execution_count": 11,
   "metadata": {
    "collapsed": true
   },
   "outputs": [],
   "source": [
    "# Set up modeling decisions. Non-specified decision will follow the default values set by summa and summapy\n",
    "expName = 'stability'\n",
    "arrayExpID = ['standard', 'louisinv', 'mahrtexp']\n",
    "\n",
    "aerodynamic_z0 = [.001, .01, .1]\n",
    "varName = ['z0Snow']\n",
    "expIDAppend = ['Low', 'Mid', 'High']\n",
    "\n",
    "myDecisions = {'astability': 'louisinv',\n",
    "               'subRouting': 'qInstant'}"
   ]
  },
  {
   "cell_type": "code",
   "execution_count": 12,
   "metadata": {
    "collapsed": false
   },
   "outputs": [
    {
     "name": "stdout",
     "output_type": "stream",
     "text": [
      "standardLow\n",
      "0.001\n",
      "Finished creating new summa_zParamTrial file\n",
      "Finished creating new Decision file\n",
      "Finished creating new file Manager\n",
      "standardMid\n",
      "0.01\n",
      "Finished creating new summa_zParamTrial file\n",
      "Finished creating new Decision file\n",
      "Finished creating new file Manager\n",
      "standardHigh\n",
      "0.1\n",
      "Finished creating new summa_zParamTrial file\n",
      "Finished creating new Decision file\n",
      "Finished creating new file Manager\n",
      "louisinvLow\n",
      "0.001\n",
      "Finished creating new summa_zParamTrial file\n",
      "Finished creating new Decision file\n",
      "Finished creating new file Manager\n",
      "louisinvMid\n",
      "0.01\n",
      "Finished creating new summa_zParamTrial file\n",
      "Finished creating new Decision file\n",
      "Finished creating new file Manager\n",
      "louisinvHigh\n",
      "0.1\n",
      "Finished creating new summa_zParamTrial file\n",
      "Finished creating new Decision file\n",
      "Finished creating new file Manager\n",
      "mahrtexpLow\n",
      "0.001\n",
      "Finished creating new summa_zParamTrial file\n",
      "Finished creating new Decision file\n",
      "Finished creating new file Manager\n",
      "mahrtexpMid\n",
      "0.01\n",
      "Finished creating new summa_zParamTrial file\n",
      "Finished creating new Decision file\n",
      "Finished creating new file Manager\n",
      "mahrtexpHigh\n",
      "0.1\n",
      "Finished creating new summa_zParamTrial file\n",
      "Finished creating new Decision file\n",
      "Finished creating new file Manager\n"
     ]
    }
   ],
   "source": [
    "# Consistent files across all experiments\n",
    "summapy.summaFileManager.writeDefault(dirModel, siteName, expName)\n",
    "summapy.summaFileManager.localAttributesFile(attr, dirModel, siteName, expName)\n",
    "\n",
    "# Experiment specific files\n",
    "for expID in arrayExpID:\n",
    "    for val, append in zip(aerodynamic_z0, expIDAppend):\n",
    "        print(expID + append)\n",
    "        myDecisions['astability'] = expID\n",
    "        summapy.summaFileManager.paramTrial(varName, val, dirModel, siteName, expName, expID + append)\n",
    "        summapy.summaFileManager.forcingFile(dirModel, siteName, expName,\n",
    "                                             'CDP.ModTsfc.ModelForcing_wy2006.nc',\n",
    "                                             np.array(1001), xrForce=dat, expID=expID + append)    \n",
    "        summapy.summaFileManager.decision(myDecisions, dirModel, siteName, expName,\n",
    "                                          pd.to_datetime(dat.time[0].values),\n",
    "                                          pd.to_datetime(dat.time[-1].values), expID=expID + append)\n",
    "        summapy.summaFileManager.fileManager(dirModel, '/ModTsfc_summa/', siteName, expName, expID=expID + append)"
   ]
  },
  {
   "cell_type": "code",
   "execution_count": 13,
   "metadata": {
    "collapsed": false
   },
   "outputs": [
    {
     "name": "stdout",
     "output_type": "stream",
     "text": [
      "['z0Snow'] 0.1\n"
     ]
    }
   ],
   "source": [
    "print(varName, val)"
   ]
  },
  {
   "cell_type": "code",
   "execution_count": null,
   "metadata": {
    "collapsed": true
   },
   "outputs": [],
   "source": []
  }
 ],
 "metadata": {
  "anaconda-cloud": {},
  "kernelspec": {
   "display_name": "Python [Root]",
   "language": "python",
   "name": "Python [Root]"
  },
  "language_info": {
   "codemirror_mode": {
    "name": "ipython",
    "version": 3
   },
   "file_extension": ".py",
   "mimetype": "text/x-python",
   "name": "python",
   "nbconvert_exporter": "python",
   "pygments_lexer": "ipython3",
   "version": "3.5.2"
  }
 },
 "nbformat": 4,
 "nbformat_minor": 0
}
